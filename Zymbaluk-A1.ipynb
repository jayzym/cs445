{
 "cells": [
  {
   "cell_type": "markdown",
   "metadata": {},
   "source": [
    "$\\newcommand{\\xv}{\\mathbf{x}}\n",
    "\\newcommand{\\Xv}{\\mathbf{X}}\n",
    "\\newcommand{\\yv}{\\mathbf{y}}\n",
    "\\newcommand{\\zv}{\\mathbf{z}}\n",
    "\\newcommand{\\av}{\\mathbf{a}}\n",
    "\\newcommand{\\Wv}{\\mathbf{W}}\n",
    "\\newcommand{\\wv}{\\mathbf{w}}\n",
    "\\newcommand{\\tv}{\\mathbf{t}}\n",
    "\\newcommand{\\Tv}{\\mathbf{T}}\n",
    "\\newcommand{\\muv}{\\boldsymbol{\\mu}}\n",
    "\\newcommand{\\sigmav}{\\boldsymbol{\\sigma}}\n",
    "\\newcommand{\\phiv}{\\boldsymbol{\\phi}}\n",
    "\\newcommand{\\Phiv}{\\boldsymbol{\\Phi}}\n",
    "\\newcommand{\\Sigmav}{\\boldsymbol{\\Sigma}}\n",
    "\\newcommand{\\Lambdav}{\\boldsymbol{\\Lambda}}\n",
    "\\newcommand{\\half}{\\frac{1}{2}}\n",
    "\\newcommand{\\argmax}[1]{\\underset{#1}{\\operatorname{argmax}}}\n",
    "\\newcommand{\\argmin}[1]{\\underset{#1}{\\operatorname{argmin}}}$"
   ]
  },
  {
   "cell_type": "markdown",
   "metadata": {},
   "source": [
    "# Assignment 1: Linear Regression"
   ]
  },
  {
   "cell_type": "markdown",
   "metadata": {},
   "source": [
    "*Type your name here and DELETE ALL TEXT PROVIDED HERE THAT ARE INSTRUCTIONS TO YOU*"
   ]
  },
  {
   "cell_type": "markdown",
   "metadata": {},
   "source": [
    "## Overview"
   ]
  },
  {
   "cell_type": "markdown",
   "metadata": {},
   "source": [
    "Describe the objective of this assignment, and very briefly how you accomplish it.  Say things like \"linear model\", \"samples of inputs and known desired outputs\" and \"minimize the sum of squared errors\". DELETE THIS TEXT AND INSERT YOUR OWN."
   ]
  },
  {
   "cell_type": "markdown",
   "metadata": {},
   "source": [
    "## Method"
   ]
  },
  {
   "cell_type": "markdown",
   "metadata": {},
   "source": [
    "Define in code cells the following functions as discussed in class.  Your functions' arguments and return types must be as shown here.\n",
    "\n",
    "  * ```model = train(X, T)```\n",
    "  * ```predict = use(model, X)```\n",
    "  * ```error = rmse(predict, T)```\n",
    "  \n",
    "Let ```X``` be a two-dimensional matrix (```np.array```) with each row containing one data sample, and ```T``` be a two-dimensional matrix of one column containing the target values for each sample in ```X```.  So, ```X.shape[0]``` is equal to ```T.shape[0]```.   \n",
    "\n",
    "Function ```train``` must standardize the input data in ```X``` and return a dictionary with  keys named ```means```, ```stds```, and ```w```.  \n",
    "\n",
    "Function ```use``` must also standardize its input data X by using the means and standard deviations in the dictionary returned by ```train```.\n",
    "\n",
    "Function ```rmse``` returns the square root of the mean of the squared error between ```predict``` and ```T```.\n",
    "\n",
    "Also implement the function\n",
    "\n",
    "   * ```model = trainSGD(X, T, learningRate, numberOfIterations)```\n",
    "\n",
    "which performs the incremental training process described in class as stochastic gradient descent (SGC).  The result of this function is a dictionary with the same keys as the dictionary returned by the above ```train``` function."
   ]
  },
  {
   "cell_type": "markdown",
   "metadata": {},
   "source": [
    "In this section, ilatex math formulas defining the formula that is being minimized, and the matrix calculation for finding the weights. \n",
    "\n",
    "In this section, include all necessary imports and the function definitions. Also include some math formulas using latex syntax that define the formula being minimized and the calculation of the weights using a matrix equation.  You do not need to include the math formulas showing the derivations."
   ]
  },
  {
   "cell_type": "markdown",
   "metadata": {},
   "source": [
    "## Data"
   ]
  },
  {
   "cell_type": "markdown",
   "metadata": {},
   "source": [
    "Download ```energydata_complete.csv``` from the [Appliances energy prediction Data Set ](https://archive.ics.uci.edu/ml/datasets/Appliances+energy+prediction) at the UCI Machine Learning Repository. Ignore the first column (date and time), use the next two columns as target variables, and use all but the last two columns (named rv1 and rv2) as input variables. \n",
    "\n",
    "In this section include a summary of this data, including the number of samples, the number and kinds of input variables, and the number and kinds of target variables.  Also mention who recorded the data and how.  Some of this information can be found in the paper that is linked to at the UCI site for this data set.  Also show some plots of target variables versus some of the input variables to investigate whether or not linear relationships might exist.  Discuss your observations of these plots."
   ]
  },
  {
   "cell_type": "markdown",
   "metadata": {},
   "source": [
    "## Results"
   ]
  },
  {
   "cell_type": "markdown",
   "metadata": {},
   "source": [
    "Apply your functions to the data.  Compare the error you get as a result of both training functions.  Experiment with different learning rates for ```trainSGD``` and discuss the errors.\n",
    "\n",
    "Make some plots of the predicted energy uses and the actual energy uses versus the sample index.  Also plot predicted energy use versus actual energy use.  Show the above plots for the appliances energy use and repeat them for the lights energy use. Discuss your observations of each graph.\n",
    "\n",
    "Show the values of the resulting weights and discuss which ones might be least relevant for fitting your linear model.  Remove them, fit the linear model again, plot the results, and discuss what you see."
   ]
  },
  {
   "cell_type": "markdown",
   "metadata": {},
   "source": [
    "## Grading\n",
    "\n",
    "Your notebook will be run and graded automatically.  Test this grading process by first downloading [A1grader.tar](http://www.cs.colostate.edu/~anderson/cs445/notebooks/A1grader.tar) and extract `A1grader.py` from it. Run the code in the following cell (after deleting the one containing A1mysolution) to demonstrate an example grading session.  You should see a perfect execution score of 70/70 if your functions are defined correctly. The remaining 30 points will be based on the results you obtain from the energy data and on your discussions.\n",
    "\n",
    "A different, but similar, grading script will be used to grade your checked-in notebook.  It will include additional tests.  You need not include code to test that the values passed in to your functions are the correct form.  "
   ]
  },
  {
   "cell_type": "code",
   "execution_count": 5,
   "metadata": {
    "collapsed": true
   },
   "outputs": [],
   "source": [
    "# from A1mysolution import *  # DELETE THIS CELL"
   ]
  },
  {
   "cell_type": "code",
   "execution_count": 4,
   "metadata": {},
   "outputs": [
    {
     "name": "stdout",
     "output_type": "stream",
     "text": [
      "\n",
      "======================= Code Execution =======================\n",
      "\n",
      "Extracting python code from notebook and storing in notebookcode.py\n",
      "Removing all statements that are not function or class defs or import statements.\n",
      "Testing rmse(A, B) with\n",
      " A =\n",
      "[[1 2 3]\n",
      " [4 5 6]]\n",
      " and B =\n",
      "[[2 3 4]\n",
      " [5 6 7]]\n",
      "\n",
      "--- 10/10 points. Correctly returned 1.0\n",
      "\n",
      "Testing model = train(X, T) with\n",
      " X=\n",
      "[[ 0  1  2]\n",
      " [ 3  4  5]\n",
      " [ 6  7  8]\n",
      " [ 9 10 11]\n",
      " [12 13 14]]\n",
      " and T=\n",
      "[[  0.2   1.2]\n",
      " [  5.    6. ]\n",
      " [ 11.6  12.6]\n",
      " [ 20.   21. ]\n",
      " [ 30.2  31.2]]\n",
      "\n",
      "--- 5/5 points. Model correctly includes a key named 'means'.\n",
      "\n",
      "--- 5/5 points. Model correctly includes a key named 'stds'.\n",
      "\n",
      "--- 5/5 points. Model correctly includes a key named 'w'.\n",
      "\n",
      "Testing rmse(T, use(model, X))\n",
      "\n",
      "--- 15/15 points. Error is correctly calculated as 1.5059880477613363.\n",
      "\n",
      "Testing model = trainSGD(X, T, 0.01, 1000) with\n",
      " X=\n",
      "[[ 0  1  2]\n",
      " [ 3  4  5]\n",
      " [ 6  7  8]\n",
      " [ 9 10 11]\n",
      " [12 13 14]]\n",
      " and T=\n",
      "[[  0.2   1.2]\n",
      " [  5.    6. ]\n",
      " [ 11.6  12.6]\n",
      " [ 20.   21. ]\n",
      " [ 30.2  31.2]]\n",
      "\n",
      "--- 5/5 points. Model correctly includes a key named 'means'.\n",
      "\n",
      "--- 5/5 points. Model correctly includes a key named 'stds'.\n",
      "\n",
      "--- 5/5 points. Model correctly includes a key named 'w'.\n",
      "\n",
      "Testing rmse(T, use(model, X))\n",
      "\n",
      "--- 15/15 points. Error is correctly calculated as 1.5070757484253663.\n",
      "\n",
      "A1 Execution Grade is 70/70\n",
      "\n",
      "======================= Plots and Descriptions =======================\n",
      "\n",
      "--- _/5 points. Descriptions of data, including plots.\n",
      "\n",
      "--- _/5 points. Descriptions of algorithms for fitting linear model.\n",
      "\n",
      "--- _/5 points. Descriptions of code for all defined functions.\n",
      "\n",
      "--- _/5 points. Plots of predictions made by models from train and trainSGD. Must at least include predicted values versus actual values for each target variable and for each model.\n",
      "\n",
      "--- _/5 points. Discussions of the above plots of predictions and actual values.\n",
      "\n",
      "--- _/5 points. Discussion of accuracy of each model.  Refer to  RMSE values and what they mean with respect to the range of target values.  Also \n",
      "\n",
      "A1 Notebook Grade is __/30\n",
      "\n",
      "A1 FINAL GRADE is __/100\n"
     ]
    }
   ],
   "source": [
    "%run -i \"A1grader.py\""
   ]
  },
  {
   "cell_type": "markdown",
   "metadata": {},
   "source": [
    "## Check-in"
   ]
  },
  {
   "cell_type": "markdown",
   "metadata": {},
   "source": [
    "Do not include this section in your notebook.\n",
    "\n",
    "Name your notebook ```Lastname-A1.ipynb```.  So, for me it would be ```Anderson-A1.ipynb```.  Submit the file using the ```Assignment 1``` link on [Canvas](https://colostate.instructure.com/courses/41327).\n",
    "\n",
    "Grading will be based on \n",
    "\n",
    "  * correct behavior of the required functions listed above,\n",
    "  * easy to understand plots in your notebook,\n",
    "  * readability of the notebook,\n",
    "  * effort in making interesting observations, and in formatting your notebook."
   ]
  },
  {
   "cell_type": "markdown",
   "metadata": {},
   "source": [
    "## Extra Credit"
   ]
  },
  {
   "cell_type": "markdown",
   "metadata": {},
   "source": [
    "Download a second data set and repeat all of the steps of this assignment on that data set."
   ]
  }
 ],
 "metadata": {
  "kernelspec": {
   "display_name": "Python 3",
   "language": "python",
   "name": "python3"
  },
  "language_info": {
   "codemirror_mode": {
    "name": "ipython",
    "version": 3
   },
   "file_extension": ".py",
   "mimetype": "text/x-python",
   "name": "python",
   "nbconvert_exporter": "python",
   "pygments_lexer": "ipython3",
   "version": "3.6.2"
  }
 },
 "nbformat": 4,
 "nbformat_minor": 2
}
