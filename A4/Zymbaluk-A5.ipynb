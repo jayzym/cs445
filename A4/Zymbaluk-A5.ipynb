{
 "cells": [
  {
   "cell_type": "markdown",
   "metadata": {},
   "source": [
    "$\\newcommand{\\xv}{\\mathbf{x}}\n",
    "\\newcommand{\\Xv}{\\mathbf{X}}\n",
    "\\newcommand{\\yv}{\\mathbf{y}}\n",
    "\\newcommand{\\zv}{\\mathbf{z}}\n",
    "\\newcommand{\\av}{\\mathbf{a}}\n",
    "\\newcommand{\\Wv}{\\mathbf{W}}\n",
    "\\newcommand{\\wv}{\\mathbf{w}}\n",
    "\\newcommand{\\tv}{\\mathbf{t}}\n",
    "\\newcommand{\\Tv}{\\mathbf{T}}\n",
    "\\newcommand{\\muv}{\\boldsymbol{\\mu}}\n",
    "\\newcommand{\\sigmav}{\\boldsymbol{\\sigma}}\n",
    "\\newcommand{\\phiv}{\\boldsymbol{\\phi}}\n",
    "\\newcommand{\\Phiv}{\\boldsymbol{\\Phi}}\n",
    "\\newcommand{\\Sigmav}{\\boldsymbol{\\Sigma}}\n",
    "\\newcommand{\\Lambdav}{\\boldsymbol{\\Lambda}}\n",
    "\\newcommand{\\half}{\\frac{1}{2}}\n",
    "\\newcommand{\\argmax}[1]{\\underset{#1}{\\operatorname{argmax}}}\n",
    "\\newcommand{\\argmin}[1]{\\underset{#1}{\\operatorname{argmin}}}$"
   ]
  },
  {
   "cell_type": "markdown",
   "metadata": {},
   "source": [
    "# Assignment 5: Control a Marble with Reinforcement Learning"
   ]
  },
  {
   "cell_type": "markdown",
   "metadata": {},
   "source": [
    "*Type your name here*"
   ]
  },
  {
   "cell_type": "markdown",
   "metadata": {},
   "source": [
    "## Overview"
   ]
  },
  {
   "cell_type": "markdown",
   "metadata": {},
   "source": [
    "In this assignment, you will be modifying the reinforcement learning code used to solve the dynamic marble problem.  You will be solving a more complex version of the marble problem in which a goal position is specified as a new state variable."
   ]
  },
  {
   "cell_type": "markdown",
   "metadata": {},
   "source": [
    "Start with the code in the notebook for lecture notes 24, and the associated neural network and mlutilities that you can download in [this tar file](http://www.cs.colostate.edu/~anderson/cs445/notebooks/A5.tar).\n"
   ]
  },
  {
   "cell_type": "markdown",
   "metadata": {},
   "source": [
    "## Requirements"
   ]
  },
  {
   "cell_type": "markdown",
   "metadata": {},
   "source": [
    "Modify the code from Lecture Notes 24 to change the\n",
    "reinforcement learning problem to one for which the goal position of\n",
    "the marble can be varied. In other words, your new code must train one Q network for the marble problem with a variable goal. \n",
    "\n",
    "Use the plotting code from Lecture 24 to show your results.  In addition to those plots, create nine additional versions of the lower-right plot for goal positions at 1, 2, 3, 4, 5, 6, 7, 8, and 9.\n",
    "\n",
    "The general approach is as follows.\n",
    "\n",
    "The state of the marble is given by $(x_t,\n",
    "\\dot{x_t})$.  In this new problem, the state will be $(x_t,\n",
    "\\dot{x_t}, g_t)$, where $g_t$ is the goal at time $t$.  Modify the\n",
    "`initialState` function to randomly choose a new goal $g_t$ to be a\n",
    "random value between 1 and 9. Modify `nextState` so that the goal\n",
    "value remains the same in the new state as it was in the old state.  You will also\n",
    "have to parameterize the reinforcement function to depend on the\n",
    "current $g_t$ value.\n",
    "\n",
    "Many of the figures will still make sense.  Include them in your\n",
    "report.  The contour (and surface)\n",
    "plots and the plot that tests the marble's behavior for various intial\n",
    "positions must be produced for a single value of the goal.  Generate\n",
    "several versions of the contour and surface plots and the test plots for goals of 1, 5, and 9 to show how\n",
    "they vary when the goal is varied.\n",
    "\n",
    "Experiment with values of the parameters, such as the number of trials, number of\n",
    "steps per trial, number of SCG iterations in each train call, number of hidden units, finalEpsilon, and gamma.  Try\n",
    "to find values that result in a trained network that controls the\n",
    "marble well for most of the goal settings.\n",
    "Discuss your experience with finding good parameter values.\n",
    "\n",
    "Discuss the changes you tried and the results."
   ]
  },
  {
   "cell_type": "markdown",
   "metadata": {},
   "source": [
    "## Grading"
   ]
  },
  {
   "cell_type": "markdown",
   "metadata": {},
   "source": [
    "There is no automatic grading code for this notebook.  Do your best to show code and results you used to find good parameter values, to train your successful Q network, and to demonstrate that it is successful.\n",
    "\n",
    "Include text to explain what you did, how successful it was, and any problems you encountered."
   ]
  },
  {
   "cell_type": "markdown",
   "metadata": {},
   "source": [
    "## Extra Credit"
   ]
  },
  {
   "cell_type": "markdown",
   "metadata": {},
   "source": [
    "One point of extra credit will be given for completing each of the following things.\n",
    "\n",
    "* Change the marble's world from one dimension to two. Add graphs of the marble's movement in the two-dimensional plane.\n",
    "* Increase the number of valid actions from three to seven and discuss the difference between the required runs and these new runs.\n",
    "* Add a variable wind as a force on the marble, along with another state variable that indicates wind speed and direction.\n",
    "* Add a second marble with its own RL agent.  Add negative reinforcement if they bump into each other.\n",
    "* Add areas of increased friction to the track.\n",
    "\n",
    "For all of these, demonstrate the effects and write about what you observe.  Full extra credit points will only be awarded if you clearly describe your work and results for each point."
   ]
  },
  {
   "cell_type": "markdown",
   "metadata": {},
   "source": [
    "## Check-in"
   ]
  },
  {
   "cell_type": "markdown",
   "metadata": {},
   "source": [
    "Do not include this section in your notebook.\n",
    "\n",
    "Name your notebook ```Lastname-A5.ipynb```.  So, for me it would be ```Anderson-A5.ipynb```.  Submit the file using the ```Assignment 5``` link on [Canvas](https://colostate.instructure.com/courses/41327).\n"
   ]
  }
 ],
 "metadata": {
  "anaconda-cloud": {},
  "kernelspec": {
   "display_name": "Python 3",
   "language": "python",
   "name": "python3"
  },
  "language_info": {
   "codemirror_mode": {
    "name": "ipython",
    "version": 3
   },
   "file_extension": ".py",
   "mimetype": "text/x-python",
   "name": "python",
   "nbconvert_exporter": "python",
   "pygments_lexer": "ipython3",
   "version": "3.6.4"
  }
 },
 "nbformat": 4,
 "nbformat_minor": 1
}
